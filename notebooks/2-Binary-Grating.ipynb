{
 "cells": [
  {
   "cell_type": "code",
   "execution_count": 1,
   "metadata": {},
   "outputs": [],
   "source": [
    "import numpy as np\n",
    "import seaborn as sns\n",
    "import scipy.optimize as op\n",
    "import matplotlib.pyplot as plt\n",
    "from matplotlib.animation import FuncAnimation"
   ]
  },
  {
   "cell_type": "markdown",
   "metadata": {},
   "source": [
    "## Parameters"
   ]
  },
  {
   "cell_type": "code",
   "execution_count": null,
   "metadata": {},
   "outputs": [],
   "source": [
    "#Parameters\n",
    "min_error = 10000;\n",
    "Ntrails =500;\n",
    "Nsamps = 100; #number of smaples across period of the grating (even number)\n",
    "Ncoefs = 5; #number of Fourier coefficients\n",
    "Nspots = 5; #number of spots for analysis in Fourier plane (odd number)\n",
    "Q_levels = 8; #Number of quantization levels (power of 2)"
   ]
  },
  {
   "cell_type": "code",
   "execution_count": null,
   "metadata": {},
   "outputs": [],
   "source": [
    "fig, ax = plt.subplots()\n",
    "\n",
    "def update(frame):\n",
    "    xdata.append(frame)\n",
    "    ydata.append(np.sin(frame))\n",
    "    ln.set_data(xdata,ydata)\n",
    "    return ln,"
   ]
  },
  {
   "cell_type": "code",
   "execution_count": null,
   "metadata": {},
   "outputs": [],
   "source": [
    "def imageerror_Binary(cm_in, inparms):\n",
    "    #function imageerror_Binary\n",
    "    #uses Fourier coefficiencts to calculate profile\n",
    "\n",
    "    #parameters\n",
    "    Nsamps = inparms[0];\n",
    "    Nspots = inparms[1];\n",
    "    Ncoefs= inparms[2];\n",
    "    Q_levels= inparms[3];\n",
    "\n",
    "    #xvector\n",
    "    xvec        = np.linspace(-0.5,0.5,Nsamps)\n",
    "\n",
    "    #make transmission phase \n",
    "    xprofile    = np.zeros(Nsamps)\n",
    "    for ii in range(Ncoefs):\n",
    "        xprofile    = xprofile + cm_in[ii]*np.cos(2*np.pi*xvec*(ii-1))\n",
    "\n",
    "    maxprofile  = max(xprofile)\n",
    "    minprofile  = min(xprofile)\n",
    "    xprofilenorm    = (xprofile-minprofile)/(maxprofile-minprofile)\n",
    "    Q_profile   = np.floor(xprofilenorm*Q_levels)/Q_levels\n",
    "    indx        = np.where(Q_profile == 1)\n",
    "    if Q_levels == 2:\n",
    "        Q_profile[indx]   = 1/Q_levels\n",
    "    else:\n",
    "        Q_profile[indx]   = (Q_levels-1)/Q_levels\n",
    "\n",
    "    Q_profile   = (Q_profile+minprofile)*(maxprofile-minprofile)\n",
    "#     plt.figure(10)\n",
    "#     plt.plot(Q_profile)\n",
    "#     plt.show()\n",
    "\n",
    "    tvec        =  np.exp(1j*2*np.pi*Q_profile)\n",
    "\n",
    "    #take fft mag sq and normalize\n",
    "    fullfield   = np.fft.fftshift(abs(np.fft.fft(tvec))ssjj**2)/Nsamps/Nsamps*Nspots\n",
    "\n",
    "    #define mask\n",
    "    indxstart = np.ceil(Nsamps/2-Nspots/2)\n",
    "    indxstop  = np.floor(Nsamps/2 + Nspots/2)\n",
    "    indx        = np.arange(indxstart,indxstop)\n",
    "    mask        = np.zeros(Nsamps)\n",
    "    for i in indx:\n",
    "        mask[int(i)]  = 1\n",
    "\n",
    "    #error calculation\n",
    "    errorvalA   = sum(((fullfield/max(fullfield) - mask)*mask)**2)\n",
    "    powinmask   = sum(fullfield*mask)/Nspots\n",
    "    errorvalB    = 1/powinmask**2\n",
    "    errorval    = errorvalA # + errorvalB\n",
    "\n",
    "    return errorval"
   ]
  },
  {
   "cell_type": "markdown",
   "metadata": {},
   "source": [
    "## Optimization Routine"
   ]
  },
  {
   "cell_type": "code",
   "execution_count": 30,
   "metadata": {},
   "outputs": [],
   "source": [
    "for jj in range(Ntrails):\n",
    "    \n",
    "    cm0     = 0.2*(0.5 - np.random.rand(Ncoefs))   #initial Fourier coefficient vector\n",
    "\n",
    "    #form initial guess for transition points\n",
    "    #assume symmetric distribution of transitionssd\n",
    "    xvec        = np.linspace(-0.5,0.5,Nsamps)\n",
    "\n",
    "    inparms = [Nsamps,Nspots,Ncoefs,Q_levels]\n",
    "\n",
    "    #find minimum error\n",
    "    cm_in       = lambda cm_in: imageerror_Binary(cm_in, inparms)\n",
    "    cmout       = op.fmin(cm_in, cm0, maxiter= 50000, maxfun= 50000, disp=False)\n",
    "\n",
    "    #calculate profile\n",
    "    xprofile    = np.zeros(Nsamps)\n",
    "    for ii in range(Ncoefs):\n",
    "        xprofile    = xprofile + cmout[ii]*np.cos(2*np.pi*xvec*(ii-1))\n",
    "\n",
    "    maxprofile  = max(xprofile)\n",
    "    minprofile  = min(xprofile)\n",
    "    xprofilenorm    = (xprofile-minprofile)/(maxprofile-minprofile)\n",
    "    Q_profile   = np.floor(xprofilenorm*Q_levels)/Q_levels\n",
    "    indx        = np.where(Q_profile == 1)\n",
    "    if Q_levels == 2:\n",
    "        Q_profile[indx]   = 1/Q_levels\n",
    "    else:\n",
    "        Q_profile[indx]= (Q_levels-1)/Q_levels\n",
    "\n",
    "    Q_profile   = (Q_profile+minprofile)*(maxprofile-minprofile)\n",
    "\n",
    "#     plt.figure(10)\n",
    "#     plt.plot(Q_profile)\n",
    "#     plt.show()\n",
    "    tvec        =  np.exp(1j*2*np.pi*Q_profile)\n",
    "\n",
    "    #error calculation\n",
    "    #take fft, shift and normalize\n",
    "    fullfield   = np.fft.fftshift(abs(np.fft.fft(tvec))**2)/Nsamps/Nsamps*Nspots\n",
    "\n",
    "    #make mask\n",
    "    indx        = np.arange(np.ceil(Nsamps/2 - Nspots/2), np.floor(Nsamps/2 + Nspots/2))\n",
    "    mask        = np.zeros(Nsamps)\n",
    "    for i in indx:\n",
    "        mask[int(i)]  = 1\n",
    "\n",
    "    #calculate values\n",
    "    fullfieldnorm       = fullfield/max(fullfield)\n",
    "    fullfieldavgmask    = sum(fullfieldnorm*mask)/Nspots\n",
    "    uniformity  = sum(((fullfieldnorm - fullfieldavgmask)*mask)**2)\n",
    "    powinmask   = sum(fullfield*mask)/Nspots\n",
    "\n",
    "    #calculate error\n",
    "    errorval    = sum(((fullfieldnorm - mask)*mask)**2)\n",
    "    \n",
    "    if errorval < min_error:\n",
    "        min_error=errorval\n",
    "        cmout_save = cmout\n",
    "        print([' Trial ' + str(jj) + ' errorval = ' + str(errorval)])\n",
    "        "
   ]
  },
  {
   "cell_type": "markdown",
   "metadata": {},
   "source": [
    "Note: As Nspots increases, you will probably need to increase Nsamps in\n",
    "order to get good uniformity.  However, this increases the accuracy\n",
    "required for fabrication and the tolerance sensitivity to the transition\n",
    "positions."
   ]
  },
  {
   "cell_type": "markdown",
   "metadata": {},
   "source": [
    "## Analysis"
   ]
  },
  {
   "cell_type": "code",
   "execution_count": 21,
   "metadata": {},
   "outputs": [
    {
     "name": "stdout",
     "output_type": "stream",
     "text": [
      "optimum Fourier coefficients: \n",
      "[ 2.08677756e-01  2.31417192e-03  6.40770566e-05  2.39330752e-01\n",
      " -1.10283838e-02]\n"
     ]
    }
   ],
   "source": [
    "print(\"optimum Fourier coefficients: \")\n",
    "print(str(cmout_save))"
   ]
  },
  {
   "cell_type": "code",
   "execution_count": 22,
   "metadata": {},
   "outputs": [],
   "source": [
    "#calculate profile\n",
    "xvec        = np.linspace(-0.5,0.5,Nsamps);\n",
    "xprofile    = np.zeros(Nsamps);\n",
    "for ii in range(Ncoefs):\n",
    "    xprofile    = xprofile + cmout_save[ii]*np.cos(2*np.pi*xvec*(ii-1))\n",
    "\n",
    "maxprofile  = max(xprofile);\n",
    "minprofile  = min(xprofile);\n",
    "xprofilenorm    = (xprofile-minprofile)/(maxprofile-minprofile)\n",
    "Q_profile   = np.floor(xprofilenorm*Q_levels)/Q_levels;\n",
    "indx        = np.where(Q_profile == 1);\n",
    "if Q_levels == 2:\n",
    "    Q_profile[indx]   = 1/Q_levels;\n",
    "else:\n",
    "    Q_profile[indx]   = (Q_levels-1)/Q_levels;\n",
    "\n",
    "Q_profile   = (Q_profile+minprofile)*(maxprofile-minprofile)\n",
    "#plt.figure(10)\n",
    "#plt.plot(Q_profile)\n",
    "\n",
    "tvec        =  np.exp(1j*2*np.pi*Q_profile);\n",
    "\n",
    "#take fft, shift and normalize\n",
    "fullfield   = np.fft.fftshift(abs(np.fft.fft(tvec))**2)/Nsamps/Nsamps*Nspots;\n",
    "\n",
    "#make mask\n",
    "indx        = (np.ceil(Nsamps/2 - Nspots/2),np.floor(Nsamps/2 + Nspots/2))\n",
    "mask        = np.zeros(Nsamps)\n",
    "for i in indx:\n",
    "    mask[int(i)]  = 1\n",
    "\n",
    "#calculate values\n",
    "fullfieldnorm       = fullfield/max(fullfield)\n",
    "fullfieldavgmask    = sum(fullfieldnorm*mask)/Nspots\n",
    "uniformity  = sum(((fullfieldnorm - fullfieldavgmask)*mask)**2)\n",
    "powinmask   = sum(fullfield*mask)/Nspots\n",
    "ordervec    = np.arange(-Nsamps/2,(Nsamps/2))"
   ]
  },
  {
   "cell_type": "code",
   "execution_count": 23,
   "metadata": {},
   "outputs": [
    {
     "data": {
      "image/png": "[encoded data removed]",
      "text/plain": [
       "<Figure size 432x288 with 1 Axes>"
      ]
     },
     "metadata": {},
     "output_type": "display_data"
    },
    {
     "data": {
      "text/plain": [
       "Text(1, 0.75, \"['power in mask = 0.2862 ']\")"
      ]
     },
     "execution_count": 23,
     "metadata": {},
     "output_type": "execute_result"
    }
   ],
   "source": [
    "plt.figure(31)\n",
    "plt.plot(xvec,Q_profile/2,linewidth=3)\n",
    "plt.title('Grating Transmission Phase')\n",
    "plt.xlabel('Domain along normalized grating period')\n",
    "plt.ylabel('Phase/pi')\n",
    "plt.show()\n",
    "plt.figure(30)\n",
    "plt.plot(ordervec,fullfield/max(fullfield),'o',ordervec,mask,'*')\n",
    "plt.axis([-20, 20, 0, 1])\n",
    "plt.title('Diffraction Pattern (circles) and Mask (stars)')\n",
    "plt.xlabel('Diffraction order')\n",
    "plt.ylabel('Normalized Irradiance')\n",
    "plt.text(1,0.8,['uniformity = %0.4f' % uniformity ])\n",
    "plt.text(1,0.75,['power in mask = %0.4f ' % powinmask ])"
   ]
  },
  {
   "cell_type": "code",
   "execution_count": null,
   "metadata": {},
   "outputs": [],
   "source": []
  },
  {
   "cell_type": "code",
   "execution_count": null,
   "metadata": {},
   "outputs": [],
   "source": []
  },
  {
   "cell_type": "code",
   "execution_count": null,
   "metadata": {},
   "outputs": [],
   "source": []
  }
 ],
 "metadata": {
  "kernelspec": {
   "display_name": "Python 3",
   "language": "python",
   "name": "python3"
  },
  "language_info": {
   "codemirror_mode": {
    "name": "ipython",
    "version": 3
   },
   "file_extension": ".py",
   "mimetype": "text/x-python",
   "name": "python",
   "nbconvert_exporter": "python",
   "pygments_lexer": "ipython3",
   "version": "3.7.4"
  }
 },
 "nbformat": 4,
 "nbformat_minor": 4
}
