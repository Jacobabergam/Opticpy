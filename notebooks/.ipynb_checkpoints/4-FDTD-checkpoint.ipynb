{
 "cells": [
  {
   "cell_type": "markdown",
   "metadata": {},
   "source": [
    "# FDTD Algorythms"
   ]
  },
  {
   "cell_type": "code",
   "execution_count": 4,
   "metadata": {},
   "outputs": [],
   "source": [
    "import numpy as np\n",
    "import matplotlib.pyplot as plt"
   ]
  },
  {
   "cell_type": "markdown",
   "metadata": {},
   "source": [
    "## Convolutional PML"
   ]
  },
  {
   "cell_type": "code",
   "execution_count": 3,
   "metadata": {},
   "outputs": [
    {
     "ename": "SyntaxError",
     "evalue": "invalid syntax (<ipython-input-3-f304d5649549>, line 2)",
     "output_type": "error",
     "traceback": [
      "\u001b[0;36m  File \u001b[0;32m\"<ipython-input-3-f304d5649549>\"\u001b[0;36m, line \u001b[0;32m2\u001b[0m\n\u001b[0;31m    al p h a x = np . one s ( ( nx−1, ny ) )\u001b[0m\n\u001b[0m       ^\u001b[0m\n\u001b[0;31mSyntaxError\u001b[0m\u001b[0;31m:\u001b[0m invalid syntax\n"
     ]
    }
   ],
   "source": [
    "k = 1\n",
    "al p h a x = np . one s ( ( nx−1, ny ) )\n",
    "al p h a y = np . one s ( ( nx , ny−1))\n",
    "alpha mx = np . one s ( ( nx , ny ) )\n",
    "alpha my = np . one s ( ( nx , ny ) )\n",
    "for i in range ( 1 0 ) :\n",
    "al p h a x [ i , : ] = ( i + 1 ) / 10\n",
    "al p h a x [− i − 1 , : ] = ( i + 1 ) / 10\n",
    "alpha mx [ i , : ] = ( i + 1 ) / 10\n",
    "alpha mx[− i − 1 , : ] = ( i + 1 ) / 10\n",
    "al p h a y [ : , i ] = ( i + 1 ) / 10\n",
    "al p h a y [ : , −i − 1 ] = ( i + 1 ) / 10\n",
    "alpha my [ : , i ] = ( i + 1 ) / 10\n",
    "alpha my [ : , −i − 1 ] = ( i + 1 ) / 10"
   ]
  },
  {
   "cell_type": "code",
   "execution_count": null,
   "metadata": {},
   "outputs": [],
   "source": []
  }
 ],
 "metadata": {
  "kernelspec": {
   "display_name": "Python3 (OpticPy)",
   "language": "python",
   "name": "opticpy"
  },
  "language_info": {
   "codemirror_mode": {
    "name": "ipython",
    "version": 3
   },
   "file_extension": ".py",
   "mimetype": "text/x-python",
   "name": "python",
   "nbconvert_exporter": "python",
   "pygments_lexer": "ipython3",
   "version": "3.7.2"
  }
 },
 "nbformat": 4,
 "nbformat_minor": 4
}
