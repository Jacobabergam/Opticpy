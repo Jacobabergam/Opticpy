{
 "cells": [
  {
   "cell_type": "code",
   "execution_count": 1,
   "metadata": {},
   "outputs": [],
   "source": [
    "import numpy as np\n",
    "import matplotlib as mpl\n",
    "import matplotlib.pyplot as plt\n",
    "from matplotlib import animation, rc\n",
    "from IPython.display import HTML, Image\n",
    "%matplotlib inline\n",
    "rc('animation', html='html5')"
   ]
  },
  {
   "cell_type": "markdown",
   "metadata": {},
   "source": [
    "# Simple Transverse Waves\n",
    "\n",
    "<img src=\"img/simple-transverse-wave.png\">\n",
    "\n",
    "Here we will consider plane waves moving in opposite direction. <br/>\n",
    "<center>Wave 1: $E1=cos(k x-\\omega t)$ &rarr; <\\center>\n",
    "<center>Wave 2: $E2=cos(-k x -\\omega t)$ &larr; <\\center>\n",
    "\n",
    "Addition of the two wave:\n",
    "<center>  \n",
    "    $E_r=cos(k x - \\omega t) + cos(-k x - \\omega t)$ <br/>\n",
    "    $   = 2cos(kx)cos(-\\omega t)$\n",
    "<\\center> <br/>\n",
    "Average square of the total field (detectable power): <br/>\n",
    "    $\\langle E_r^2 \\rangle = 2+2cos(2kx)$  Standing Wave "
   ]
  },
  {
   "cell_type": "code",
   "execution_count": null,
   "metadata": {},
   "outputs": [],
   "source": []
  }
 ],
 "metadata": {
  "kernelspec": {
   "display_name": "Python3 (OpticPy)",
   "language": "python",
   "name": "opticpy"
  },
  "language_info": {
   "codemirror_mode": {
    "name": "ipython",
    "version": 3
   },
   "file_extension": ".py",
   "mimetype": "text/x-python",
   "name": "python",
   "nbconvert_exporter": "python",
   "pygments_lexer": "ipython3",
   "version": "3.7.2"
  }
 },
 "nbformat": 4,
 "nbformat_minor": 4
}
